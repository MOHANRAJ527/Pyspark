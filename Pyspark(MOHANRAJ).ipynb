{
  "nbformat": 4,
  "nbformat_minor": 0,
  "metadata": {
    "colab": {
      "provenance": []
    },
    "kernelspec": {
      "name": "python3",
      "display_name": "Python 3"
    },
    "language_info": {
      "name": "python"
    }
  },
  "cells": [
    {
      "cell_type": "code",
      "source": [
        "from pyspark.sql import SparkSession\n",
        "from pyspark.sql.types import StructType, StructField, StringType, DoubleType, DateType\n",
        "from pyspark.sql import functions as F\n",
        "from pyspark.sql.window import Window\n",
        "from datetime import date"
      ],
      "metadata": {
        "id": "MoFQPMz4lbSE"
      },
      "execution_count": 9,
      "outputs": []
    },
    {
      "cell_type": "code",
      "source": [
        "spark = SparkSession.builder.appName(\"E-commerce Transactions Analysis\").getOrCreate()"
      ],
      "metadata": {
        "id": "xU8gRxrglfN_"
      },
      "execution_count": 10,
      "outputs": []
    },
    {
      "cell_type": "code",
      "source": [
        "schema = StructType([\n",
        "    StructField(\"transaction_id\", StringType(), True),\n",
        "    StructField(\"user_id\", StringType(), True),\n",
        "    StructField(\"product_id\", StringType(), True),\n",
        "    StructField(\"category\", StringType(), True),\n",
        "    StructField(\"amount\", DoubleType(), True),\n",
        "    StructField(\"transaction_date\", DateType(), True)\n",
        "])"
      ],
      "metadata": {
        "id": "Ac5yfXD_lfKm"
      },
      "execution_count": 11,
      "outputs": []
    },
    {
      "cell_type": "code",
      "source": [
        "data = [\n",
        "    (\"T9\", \"U4\", \"P9\", \"Books\", 30.0, date(2024, 4, 1)),\n",
        "    (\"T10\", \"U4\", \"P10\", \"Books\", 40.0, date(2024, 4, 2)),\n",
        "    (\"T11\", \"U5\", \"P11\", \"Clothing\", 200.0, date(2024, 5, 1)),\n",
        "    (\"T12\", \"U5\", \"P12\", \"Electronics\", 150.0, date(2024, 5, 3)),\n",
        "    (\"T13\", \"U5\", \"P13\", \"Books\", 50.0, date(2024, 5, 4)),\n",
        "    (\"T14\", \"U6\", \"P14\", \"Groceries\", 20.0, date(2024, 6, 1)),\n",
        "    (\"T15\", \"U6\", \"P15\", \"Groceries\", 30.0, date(2024, 6, 2)),\n",
        "    (\"T16\", \"U6\", \"P16\", \"Electronics\", 100.0, date(2024, 6, 3))\n",
        "]\n"
      ],
      "metadata": {
        "id": "TFYtgFNrlfIF"
      },
      "execution_count": 12,
      "outputs": []
    },
    {
      "cell_type": "code",
      "source": [
        "df = spark.createDataFrame(data, schema)"
      ],
      "metadata": {
        "id": "nD-NveFSlfFd"
      },
      "execution_count": 13,
      "outputs": []
    },
    {
      "cell_type": "code",
      "source": [
        "spending_df = df.groupBy(\"user_id\").agg(\n",
        "    F.sum(\"amount\").alias(\"total_spent\"),\n",
        "    F.avg(\"amount\").alias(\"avg_transaction\")\n",
        ")"
      ],
      "metadata": {
        "id": "6_A2Otd3lfCz"
      },
      "execution_count": 14,
      "outputs": []
    },
    {
      "cell_type": "code",
      "source": [
        "favorite_category_df = df.groupBy(\"user_id\", \"category\") \\\n",
        "    .count() \\\n",
        "    .withColumn(\"rank\", F.row_number().over(\n",
        "        Window.partitionBy(\"user_id\").orderBy(F.desc(\"count\"))\n",
        "    )) \\\n",
        "    .filter(F.col(\"rank\") == 1) \\\n",
        "    .select(\"user_id\", F.col(\"category\").alias(\"favorite_category\"))"
      ],
      "metadata": {
        "id": "S5fI5b29le_9"
      },
      "execution_count": 15,
      "outputs": []
    },
    {
      "cell_type": "code",
      "source": [
        "result_df = spending_df.join(favorite_category_df, on=\"user_id\", how=\"left\")"
      ],
      "metadata": {
        "id": "iwzFDD3Jle9U"
      },
      "execution_count": 16,
      "outputs": []
    },
    {
      "cell_type": "code",
      "source": [
        "result_df.show()"
      ],
      "metadata": {
        "colab": {
          "base_uri": "https://localhost:8080/"
        },
        "id": "jJbr8R0Omk5P",
        "outputId": "77654cc5-21fd-40a8-eeae-b8b8a239472f"
      },
      "execution_count": 17,
      "outputs": [
        {
          "output_type": "stream",
          "name": "stdout",
          "text": [
            "+-------+-----------+------------------+-----------------+\n",
            "|user_id|total_spent|   avg_transaction|favorite_category|\n",
            "+-------+-----------+------------------+-----------------+\n",
            "|     U4|       70.0|              35.0|            Books|\n",
            "|     U6|      150.0|              50.0|        Groceries|\n",
            "|     U5|      400.0|133.33333333333334|         Clothing|\n",
            "+-------+-----------+------------------+-----------------+\n",
            "\n"
          ]
        }
      ]
    }
  ]
}